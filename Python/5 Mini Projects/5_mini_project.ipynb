{
 "cells": [
  {
   "attachments": {},
   "cell_type": "markdown",
   "metadata": {},
   "source": [
    "# RANDOM PASSWORD GENERATOR"
   ]
  },
  {
   "cell_type": "code",
   "execution_count": 3,
   "metadata": {},
   "outputs": [
    {
     "name": "stdout",
     "output_type": "stream",
     "text": [
      "Random Password of length 10 : q7jQV8q0T9\n"
     ]
    }
   ],
   "source": [
    "import random\n",
    "import string\n",
    "\n",
    "length = 10\n",
    "password = \"\".join(random.choices(string.ascii_letters + string.digits, k=length))\n",
    "print(\"Random Password of length\", length, \":\", password)"
   ]
  },
  {
   "cell_type": "code",
   "execution_count": 4,
   "metadata": {},
   "outputs": [
    {
     "name": "stdout",
     "output_type": "stream",
     "text": [
      "abcdefghijklmnopqrstuvwxyzABCDEFGHIJKLMNOPQRSTUVWXYZ\n"
     ]
    }
   ],
   "source": [
    "print(string.ascii_letters)"
   ]
  },
  {
   "cell_type": "code",
   "execution_count": 5,
   "metadata": {},
   "outputs": [
    {
     "name": "stdout",
     "output_type": "stream",
     "text": [
      "0123456789\n"
     ]
    }
   ],
   "source": [
    "print(string.digits)"
   ]
  },
  {
   "attachments": {},
   "cell_type": "markdown",
   "metadata": {},
   "source": [
    "---------------------------------------------------------------------------------"
   ]
  },
  {
   "attachments": {},
   "cell_type": "markdown",
   "metadata": {},
   "source": [
    "# CURRENCY CONVERTER"
   ]
  },
  {
   "cell_type": "code",
   "execution_count": 2,
   "metadata": {},
   "outputs": [
    {
     "name": "stdout",
     "output_type": "stream",
     "text": [
      "Collecting forex-python\n",
      "  Downloading forex_python-1.8-py3-none-any.whl (8.2 kB)\n",
      "Requirement already satisfied: requests in c:\\users\\ozgur\\anaconda3\\lib\\site-packages (from forex-python) (2.27.1)\n",
      "Collecting simplejson\n",
      "  Downloading simplejson-3.19.1-cp39-cp39-win_amd64.whl (75 kB)\n",
      "Requirement already satisfied: certifi>=2017.4.17 in c:\\users\\ozgur\\anaconda3\\lib\\site-packages (from requests->forex-python) (2022.9.24)\n",
      "Requirement already satisfied: urllib3<1.27,>=1.21.1 in c:\\users\\ozgur\\anaconda3\\lib\\site-packages (from requests->forex-python) (1.26.9)\n",
      "Requirement already satisfied: idna<4,>=2.5 in c:\\users\\ozgur\\anaconda3\\lib\\site-packages (from requests->forex-python) (3.3)\n",
      "Requirement already satisfied: charset-normalizer~=2.0.0 in c:\\users\\ozgur\\anaconda3\\lib\\site-packages (from requests->forex-python) (2.0.4)\n",
      "Installing collected packages: simplejson, forex-python\n",
      "Successfully installed forex-python-1.8 simplejson-3.19.1\n",
      "Note: you may need to restart the kernel to use updated packages.\n"
     ]
    }
   ],
   "source": [
    "pip install forex-python"
   ]
  },
  {
   "cell_type": "code",
   "execution_count": 5,
   "metadata": {},
   "outputs": [
    {
     "name": "stdout",
     "output_type": "stream",
     "text": [
      "1 USD = 19.373971239938502 TRY\n"
     ]
    }
   ],
   "source": [
    "from forex_python.converter import CurrencyRates\n",
    "\n",
    "c = CurrencyRates()\n",
    "amount = 1\n",
    "from_currency = 'USD'\n",
    "to_currency = 'TRY'\n",
    "converted_amount = c.convert(from_currency,to_currency,amount)\n",
    "print(amount, from_currency, \"=\", converted_amount, to_currency)"
   ]
  },
  {
   "attachments": {},
   "cell_type": "markdown",
   "metadata": {},
   "source": [
    "-----------------------------------------------------------------------------------------------------------------------------------"
   ]
  },
  {
   "attachments": {},
   "cell_type": "markdown",
   "metadata": {},
   "source": [
    "# QR CODE GENERATOR"
   ]
  },
  {
   "cell_type": "code",
   "execution_count": 7,
   "metadata": {},
   "outputs": [
    {
     "name": "stdout",
     "output_type": "stream",
     "text": [
      "Collecting qrcode\n",
      "  Downloading qrcode-7.4.2-py3-none-any.whl (46 kB)\n",
      "Collecting pypng\n",
      "  Downloading pypng-0.20220715.0-py3-none-any.whl (58 kB)\n",
      "Requirement already satisfied: typing-extensions in c:\\users\\ozgur\\anaconda3\\lib\\site-packages (from qrcode) (4.1.1)\n",
      "Requirement already satisfied: colorama in c:\\users\\ozgur\\anaconda3\\lib\\site-packages (from qrcode) (0.4.4)\n",
      "Installing collected packages: pypng, qrcode\n",
      "Successfully installed pypng-0.20220715.0 qrcode-7.4.2\n",
      "Note: you may need to restart the kernel to use updated packages.\n"
     ]
    }
   ],
   "source": [
    "pip install qrcode"
   ]
  },
  {
   "cell_type": "code",
   "execution_count": 8,
   "metadata": {},
   "outputs": [],
   "source": [
    "import qrcode\n",
    "\n",
    "data = \"https://www.clcoding.com/\"\n",
    "img = qrcode.make(data)\n",
    "img.save(\"qr.png\")\n"
   ]
  },
  {
   "attachments": {},
   "cell_type": "markdown",
   "metadata": {},
   "source": [
    "----------------------------------------------------------------------------------------------------------"
   ]
  },
  {
   "attachments": {},
   "cell_type": "markdown",
   "metadata": {},
   "source": [
    "# IMAGE PROCESSING"
   ]
  },
  {
   "cell_type": "code",
   "execution_count": 14,
   "metadata": {},
   "outputs": [],
   "source": [
    "from PIL import Image, ImageFilter\n",
    "\n",
    "img = Image.open(\"marek-piwnicki-G_6kPyje9Lk-unsplash.jpg\")\n",
    "img.show()\n",
    "\n",
    "blur_img = img.filter(ImageFilter.BLUR)\n",
    "blur_img.show()\n",
    "\n",
    "gray_img = img.convert('L')\n",
    "gray_img.show()\n",
    "\n",
    "edge_img = img.filter(ImageFilter.FIND_EDGES)\n",
    "edge_img.show()"
   ]
  },
  {
   "attachments": {},
   "cell_type": "markdown",
   "metadata": {},
   "source": [
    "------------------------------------------------------------------------------------------------------------------------"
   ]
  },
  {
   "attachments": {},
   "cell_type": "markdown",
   "metadata": {},
   "source": [
    "# WEB SCRAPİNG"
   ]
  },
  {
   "cell_type": "code",
   "execution_count": 16,
   "metadata": {},
   "outputs": [
    {
     "name": "stdout",
     "output_type": "stream",
     "text": [
      "https://www.google.com.tr/imghp?hl=tr&tab=wi\n",
      "https://maps.google.com.tr/maps?hl=tr&tab=wl\n",
      "https://play.google.com/?hl=tr&tab=w8\n",
      "https://www.youtube.com/?tab=w1\n",
      "https://news.google.com/?tab=wn\n",
      "https://mail.google.com/mail/?tab=wm\n",
      "https://drive.google.com/?tab=wo\n",
      "https://www.google.com.tr/intl/tr/about/products?tab=wh\n",
      "http://www.google.com.tr/history/optout?hl=tr\n",
      "/preferences?hl=tr\n",
      "https://accounts.google.com/ServiceLogin?hl=tr&passive=true&continue=https://www.google.com.tr/%3Fhl%3Dtr&ec=GAZAAQ\n",
      "/advanced_search?hl=tr&authuser=0\n",
      "/intl/tr/ads/\n",
      "http://www.google.com.tr/intl/tr/services/\n",
      "/intl/tr/about.html\n",
      "https://www.google.com.tr/setprefdomain?prefdom=US&sig=K_VDnbyRbHCsEdWAx21DUjkapyqcM%3D\n",
      "/intl/tr/policies/privacy/\n",
      "/intl/tr/policies/terms/\n"
     ]
    }
   ],
   "source": [
    "import requests\n",
    "from bs4 import BeautifulSoup\n",
    "\n",
    "url = \"https://www.google.com.tr/?hl=tr\"\n",
    "r = requests.get(url)\n",
    "\n",
    "soup = BeautifulSoup(r.content, 'html.parser')\n",
    "links = soup.find_all('a')\n",
    "for link in links:\n",
    "    print(link.get('href'))"
   ]
  }
 ],
 "metadata": {
  "kernelspec": {
   "display_name": "base",
   "language": "python",
   "name": "python3"
  },
  "language_info": {
   "codemirror_mode": {
    "name": "ipython",
    "version": 3
   },
   "file_extension": ".py",
   "mimetype": "text/x-python",
   "name": "python",
   "nbconvert_exporter": "python",
   "pygments_lexer": "ipython3",
   "version": "3.9.12"
  },
  "orig_nbformat": 4
 },
 "nbformat": 4,
 "nbformat_minor": 2
}
